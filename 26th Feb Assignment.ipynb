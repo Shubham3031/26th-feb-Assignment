{
 "cells": [
  {
   "cell_type": "code",
   "execution_count": 5,
   "id": "059cf2df-f129-40b3-a952-aa5c9a179288",
   "metadata": {},
   "outputs": [],
   "source": [
    "import numpy as np\n",
    "\n",
    "list_ = [ 1,2,3,4,5]\n",
    "\n",
    "array_list = np.array(object = list_)"
   ]
  },
  {
   "cell_type": "code",
   "execution_count": 9,
   "id": "4157ee21-3615-4f9b-97c2-ea4dab37ea9f",
   "metadata": {},
   "outputs": [
    {
     "data": {
      "text/plain": [
       "(list, numpy.ndarray)"
      ]
     },
     "execution_count": 9,
     "metadata": {},
     "output_type": "execute_result"
    }
   ],
   "source": [
    "# 1.Ans.\n",
    "\"\"\"\n",
    "Yes, there is a difference in the data type of variables list_ and array_list in Python.\n",
    "\n",
    "So, while list_ and array_list may contain the same values, their data types \n",
    "are different, with list_ being a built-in Python data type, and array_list being a NumPy array.\n",
    "\"\"\"\n",
    "type(list_), type(array_list)\n",
    "\n",
    "\n"
   ]
  },
  {
   "cell_type": "code",
   "execution_count": 10,
   "id": "50e992e4-6eb5-40df-88bf-39bdb0264eb2",
   "metadata": {},
   "outputs": [
    {
     "name": "stdout",
     "output_type": "stream",
     "text": [
      "<class 'int'>\n",
      "<class 'int'>\n",
      "<class 'int'>\n",
      "<class 'int'>\n",
      "<class 'int'>\n",
      "<class 'numpy.int64'>\n",
      "<class 'numpy.int64'>\n",
      "<class 'numpy.int64'>\n",
      "<class 'numpy.int64'>\n",
      "<class 'numpy.int64'>\n"
     ]
    }
   ],
   "source": [
    "# 2.Ans.\n",
    "\n",
    "list_ = [ 1,2,3,4,5]\n",
    "\n",
    "array_list = np.array(object = list_)\n",
    "\n",
    "for element in list_:\n",
    "    print(type(element))\n",
    "    \n",
    "for element in array_list:\n",
    "    print(type(element))\n",
    "    "
   ]
  },
  {
   "cell_type": "code",
   "execution_count": 11,
   "id": "26856fb7-cb40-45a9-96cb-e6ee64c0c09b",
   "metadata": {},
   "outputs": [
    {
     "name": "stdout",
     "output_type": "stream",
     "text": [
      "<class 'int'>\n",
      "<class 'int'>\n",
      "<class 'int'>\n",
      "<class 'int'>\n",
      "<class 'int'>\n",
      "<class 'numpy.int64'>\n",
      "<class 'numpy.int64'>\n",
      "<class 'numpy.int64'>\n",
      "<class 'numpy.int64'>\n",
      "<class 'numpy.int64'>\n"
     ]
    }
   ],
   "source": [
    "# 3.Ans.\n",
    "\n",
    "# yes.\n",
    "\n",
    "list_ = [ 1,2,3,4,5]\n",
    "array_list = np.array(object = list_, dtype = int)\n",
    "\n",
    "for element in list_:\n",
    "    print(type(element))\n",
    "    \n",
    "for element in array_list:\n",
    "    print(type(element))"
   ]
  },
  {
   "cell_type": "code",
   "execution_count": 12,
   "id": "176cd429-90f9-4900-ae73-8d8690471a2a",
   "metadata": {},
   "outputs": [],
   "source": [
    "import numpy as np\n",
    "\n",
    "num_list = [ [ 1 , 2 , 3 ] , [ 4 , 5 , 6 ] ]\n",
    "\n",
    "num_array = np.array(object = num_list)"
   ]
  },
  {
   "cell_type": "code",
   "execution_count": 16,
   "id": "c8a7c703-5912-4c3c-9c7c-6eaf65824b30",
   "metadata": {},
   "outputs": [
    {
     "data": {
      "text/plain": [
       "((2, 3), 6)"
      ]
     },
     "execution_count": 16,
     "metadata": {},
     "output_type": "execute_result"
    }
   ],
   "source": [
    "# 4.Ans.\n",
    "\n",
    "num_array.shape, num_array.size"
   ]
  },
  {
   "cell_type": "code",
   "execution_count": 25,
   "id": "097e9611-2195-4077-b27c-a7f622fbde9f",
   "metadata": {},
   "outputs": [
    {
     "name": "stdout",
     "output_type": "stream",
     "text": [
      "[[0. 0. 0.]\n",
      " [0. 0. 0.]\n",
      " [0. 0. 0.]]\n"
     ]
    }
   ],
   "source": [
    "# 5.Ans.\n",
    "\n",
    "import numpy as np\n",
    "\n",
    "array = np.zeros((3,3))\n",
    "print(array)\n"
   ]
  },
  {
   "cell_type": "code",
   "execution_count": 26,
   "id": "687d8898-d164-4920-94d9-3f5125e439af",
   "metadata": {},
   "outputs": [
    {
     "data": {
      "text/plain": [
       "((3, 3), 9)"
      ]
     },
     "execution_count": 26,
     "metadata": {},
     "output_type": "execute_result"
    }
   ],
   "source": [
    "array.shape, array.size"
   ]
  },
  {
   "cell_type": "code",
   "execution_count": 29,
   "id": "dec504ba-d309-40ab-a3c5-02ab6c77f052",
   "metadata": {},
   "outputs": [
    {
     "name": "stdout",
     "output_type": "stream",
     "text": [
      "[[1. 0. 0. 0. 0.]\n",
      " [0. 1. 0. 0. 0.]\n",
      " [0. 0. 1. 0. 0.]\n",
      " [0. 0. 0. 1. 0.]\n",
      " [0. 0. 0. 0. 1.]]\n"
     ]
    }
   ],
   "source": [
    "# 6.Ans.\n",
    "\n",
    "import numpy as np\n",
    "num = np.identity(5)\n",
    "print(num)"
   ]
  },
  {
   "cell_type": "code",
   "execution_count": null,
   "id": "17e9b677-f537-40c9-896c-b19f3f8b8a96",
   "metadata": {},
   "outputs": [],
   "source": []
  }
 ],
 "metadata": {
  "kernelspec": {
   "display_name": "Python 3 (ipykernel)",
   "language": "python",
   "name": "python3"
  },
  "language_info": {
   "codemirror_mode": {
    "name": "ipython",
    "version": 3
   },
   "file_extension": ".py",
   "mimetype": "text/x-python",
   "name": "python",
   "nbconvert_exporter": "python",
   "pygments_lexer": "ipython3",
   "version": "3.10.6"
  }
 },
 "nbformat": 4,
 "nbformat_minor": 5
}
